{
 "cells": [
  {
   "cell_type": "code",
   "execution_count": null,
   "id": "66c905bb",
   "metadata": {},
   "outputs": [],
   "source": [
    "# 4. Рост взрослого населения города X имеет нормальное распределение, причем, средний рост равен 174 см, а среднее квадратическое отклонение равно 8 см. посчитайте, какова вероятность того, что случайным образом выбранный взрослый человек имеет рост:\n",
    "# 1. больше 182 см?\n",
    "# 2. больше 190 см?\n",
    "# 3. от 166 см до 190 см?\n",
    "# 4. от 166 см до 182 см?\n",
    "# 5. от 158 см до 190 см?\n",
    "# 6. не выше 150 см или не ниже 190 см?\n",
    "# 7. не выше 150 см или не ниже 198 см?\n",
    "# 8. ниже 166 см?\n",
    "# Задачу можно решить двумя способами: без использования сторонних библиотек (numpy, scipy, pandas и пр.), а затем проверить себя с помощью встроенных функций"
   ]
  },
  {
   "cell_type": "code",
   "execution_count": 1,
   "id": "c481f9b0",
   "metadata": {},
   "outputs": [],
   "source": [
    "def z_value(height):\n",
    "    return (height-174)/8"
   ]
  },
  {
   "cell_type": "code",
   "execution_count": 2,
   "id": "41428f80",
   "metadata": {},
   "outputs": [],
   "source": [
    "from statistics import NormalDist"
   ]
  },
  {
   "cell_type": "code",
   "execution_count": 3,
   "id": "a7eac2c2",
   "metadata": {},
   "outputs": [
    {
     "name": "stdout",
     "output_type": "stream",
     "text": [
      "1.0\n"
     ]
    }
   ],
   "source": [
    "# 1)\n",
    "print(z_value(182))"
   ]
  },
  {
   "cell_type": "code",
   "execution_count": 4,
   "id": "dbbb17b9",
   "metadata": {},
   "outputs": [
    {
     "data": {
      "text/plain": [
       "0.8413447460685428"
      ]
     },
     "execution_count": 4,
     "metadata": {},
     "output_type": "execute_result"
    }
   ],
   "source": [
    "NormalDist().cdf(z_value(182))"
   ]
  },
  {
   "cell_type": "code",
   "execution_count": 8,
   "id": "9c84b899",
   "metadata": {},
   "outputs": [
    {
     "data": {
      "text/plain": [
       "0.15865525393145719"
      ]
     },
     "execution_count": 8,
     "metadata": {},
     "output_type": "execute_result"
    }
   ],
   "source": [
    "P=1-NormalDist().cdf(z_value(182))\n",
    "P"
   ]
  },
  {
   "cell_type": "code",
   "execution_count": 9,
   "id": "50c30541",
   "metadata": {},
   "outputs": [
    {
     "data": {
      "text/plain": [
       "2.0"
      ]
     },
     "execution_count": 9,
     "metadata": {},
     "output_type": "execute_result"
    }
   ],
   "source": [
    "# 2)\n",
    "z=z_value(190)\n",
    "z"
   ]
  },
  {
   "cell_type": "code",
   "execution_count": 10,
   "id": "19b02cea",
   "metadata": {},
   "outputs": [
    {
     "data": {
      "text/plain": [
       "0.022750131948179098"
      ]
     },
     "execution_count": 10,
     "metadata": {},
     "output_type": "execute_result"
    }
   ],
   "source": [
    "P=1-NormalDist().cdf(z)\n",
    "P"
   ]
  },
  {
   "cell_type": "code",
   "execution_count": 11,
   "id": "9ac884e5",
   "metadata": {},
   "outputs": [
    {
     "data": {
      "text/plain": [
       "-1.0"
      ]
     },
     "execution_count": 11,
     "metadata": {},
     "output_type": "execute_result"
    }
   ],
   "source": [
    "# 3)\n",
    "z1=z_value(166)\n",
    "z1"
   ]
  },
  {
   "cell_type": "code",
   "execution_count": 12,
   "id": "71437b00",
   "metadata": {},
   "outputs": [
    {
     "data": {
      "text/plain": [
       "2.0"
      ]
     },
     "execution_count": 12,
     "metadata": {},
     "output_type": "execute_result"
    }
   ],
   "source": [
    "z2=z_value(190)\n",
    "z2"
   ]
  },
  {
   "cell_type": "code",
   "execution_count": 13,
   "id": "176c69aa",
   "metadata": {},
   "outputs": [
    {
     "data": {
      "text/plain": [
       "0.8185946141203637"
      ]
     },
     "execution_count": 13,
     "metadata": {},
     "output_type": "execute_result"
    }
   ],
   "source": [
    "P=NormalDist().cdf(z2)-NormalDist().cdf(z1)\n",
    "P"
   ]
  },
  {
   "cell_type": "code",
   "execution_count": 14,
   "id": "9a86635d",
   "metadata": {},
   "outputs": [
    {
     "data": {
      "text/plain": [
       "-1.0"
      ]
     },
     "execution_count": 14,
     "metadata": {},
     "output_type": "execute_result"
    }
   ],
   "source": [
    "# 4)\n",
    "z1=z_value(166)\n",
    "z1"
   ]
  },
  {
   "cell_type": "code",
   "execution_count": 15,
   "id": "982d7a18",
   "metadata": {},
   "outputs": [
    {
     "data": {
      "text/plain": [
       "1.0"
      ]
     },
     "execution_count": 15,
     "metadata": {},
     "output_type": "execute_result"
    }
   ],
   "source": [
    "z2=z_value(182)\n",
    "z2"
   ]
  },
  {
   "cell_type": "code",
   "execution_count": 16,
   "id": "8a38b68c",
   "metadata": {},
   "outputs": [
    {
     "data": {
      "text/plain": [
       "0.6826894921370856"
      ]
     },
     "execution_count": 16,
     "metadata": {},
     "output_type": "execute_result"
    }
   ],
   "source": [
    "P=NormalDist().cdf(z2)-NormalDist().cdf(z1)\n",
    "P"
   ]
  },
  {
   "cell_type": "code",
   "execution_count": 17,
   "id": "b2e28266",
   "metadata": {},
   "outputs": [
    {
     "data": {
      "text/plain": [
       "-2.0"
      ]
     },
     "execution_count": 17,
     "metadata": {},
     "output_type": "execute_result"
    }
   ],
   "source": [
    "# 5)\n",
    "z1=z_value(158)\n",
    "z1"
   ]
  },
  {
   "cell_type": "code",
   "execution_count": 18,
   "id": "05b4d117",
   "metadata": {},
   "outputs": [
    {
     "data": {
      "text/plain": [
       "2.0"
      ]
     },
     "execution_count": 18,
     "metadata": {},
     "output_type": "execute_result"
    }
   ],
   "source": [
    "z2=z_value(190)\n",
    "z2"
   ]
  },
  {
   "cell_type": "code",
   "execution_count": 19,
   "id": "ad41011b",
   "metadata": {},
   "outputs": [
    {
     "data": {
      "text/plain": [
       "0.9544997361036418"
      ]
     },
     "execution_count": 19,
     "metadata": {},
     "output_type": "execute_result"
    }
   ],
   "source": [
    "P=NormalDist().cdf(z2)-NormalDist().cdf(z1)\n",
    "P"
   ]
  },
  {
   "cell_type": "code",
   "execution_count": 20,
   "id": "d57c6071",
   "metadata": {},
   "outputs": [
    {
     "data": {
      "text/plain": [
       "-3.0"
      ]
     },
     "execution_count": 20,
     "metadata": {},
     "output_type": "execute_result"
    }
   ],
   "source": [
    "# 6)\n",
    "z1=z_value(150)\n",
    "z1"
   ]
  },
  {
   "cell_type": "code",
   "execution_count": 21,
   "id": "72a5c5c7",
   "metadata": {},
   "outputs": [
    {
     "data": {
      "text/plain": [
       "2.0"
      ]
     },
     "execution_count": 21,
     "metadata": {},
     "output_type": "execute_result"
    }
   ],
   "source": [
    "z2=z_value(190)\n",
    "z2"
   ]
  },
  {
   "cell_type": "code",
   "execution_count": 22,
   "id": "1e561ca6",
   "metadata": {},
   "outputs": [
    {
     "data": {
      "text/plain": [
       "0.0241000299798092"
      ]
     },
     "execution_count": 22,
     "metadata": {},
     "output_type": "execute_result"
    }
   ],
   "source": [
    "P=NormalDist().cdf(z1)+(1-NormalDist().cdf(z2))\n",
    "P"
   ]
  },
  {
   "cell_type": "code",
   "execution_count": 23,
   "id": "7f2cd1c9",
   "metadata": {},
   "outputs": [
    {
     "data": {
      "text/plain": [
       "-3.0"
      ]
     },
     "execution_count": 23,
     "metadata": {},
     "output_type": "execute_result"
    }
   ],
   "source": [
    "# 7)\n",
    "z1=z_value(150)\n",
    "z1"
   ]
  },
  {
   "cell_type": "code",
   "execution_count": 24,
   "id": "c01e66d1",
   "metadata": {},
   "outputs": [
    {
     "data": {
      "text/plain": [
       "3.0"
      ]
     },
     "execution_count": 24,
     "metadata": {},
     "output_type": "execute_result"
    }
   ],
   "source": [
    "z2=z_value(198)\n",
    "z2"
   ]
  },
  {
   "cell_type": "code",
   "execution_count": 25,
   "id": "db0daf89",
   "metadata": {},
   "outputs": [
    {
     "data": {
      "text/plain": [
       "0.002699796063260207"
      ]
     },
     "execution_count": 25,
     "metadata": {},
     "output_type": "execute_result"
    }
   ],
   "source": [
    "P=NormalDist().cdf(z1)+(1-NormalDist().cdf(z2))\n",
    "P"
   ]
  },
  {
   "cell_type": "code",
   "execution_count": 26,
   "id": "a1c1cfab",
   "metadata": {},
   "outputs": [
    {
     "data": {
      "text/plain": [
       "-1.0"
      ]
     },
     "execution_count": 26,
     "metadata": {},
     "output_type": "execute_result"
    }
   ],
   "source": [
    "# 8)\n",
    "z=z_value(166)\n",
    "z"
   ]
  },
  {
   "cell_type": "code",
   "execution_count": 27,
   "id": "e16f0cfb",
   "metadata": {},
   "outputs": [
    {
     "data": {
      "text/plain": [
       "0.15865525393145713"
      ]
     },
     "execution_count": 27,
     "metadata": {},
     "output_type": "execute_result"
    }
   ],
   "source": [
    "P=NormalDist().cdf(z)\n",
    "P"
   ]
  },
  {
   "cell_type": "code",
   "execution_count": null,
   "id": "5cbe1817",
   "metadata": {},
   "outputs": [],
   "source": []
  }
 ],
 "metadata": {
  "kernelspec": {
   "display_name": "Python 3 (ipykernel)",
   "language": "python",
   "name": "python3"
  },
  "language_info": {
   "codemirror_mode": {
    "name": "ipython",
    "version": 3
   },
   "file_extension": ".py",
   "mimetype": "text/x-python",
   "name": "python",
   "nbconvert_exporter": "python",
   "pygments_lexer": "ipython3",
   "version": "3.9.13"
  }
 },
 "nbformat": 4,
 "nbformat_minor": 5
}
