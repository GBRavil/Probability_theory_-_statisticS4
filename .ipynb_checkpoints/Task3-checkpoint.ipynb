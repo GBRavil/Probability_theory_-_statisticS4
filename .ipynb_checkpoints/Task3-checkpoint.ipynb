{
 "cells": [
  {
   "cell_type": "code",
   "execution_count": null,
   "id": "9a64b2a2",
   "metadata": {},
   "outputs": [],
   "source": [
    "# 3. Непрерывная случайная величина X распределена нормально и задана плотностью\n",
    "# распределения\n",
    "# f(x) = (1 / (4 * sqrt(2pi))) * exp((-(x+2)**2) / 32)\n",
    "# Найдите:\n",
    "# а). M(X)\n",
    "# б). D(X)\n",
    "# в). std(X) (среднее квадратичное отклонение)"
   ]
  },
  {
   "cell_type": "code",
   "execution_count": null,
   "id": "567b7b5f",
   "metadata": {},
   "outputs": [],
   "source": [
    "# Из общей формулы плотности нормального распределения:\n",
    "# f(x) = (1 / (std(X) * sqrt(2pi)))*exp((-(x-a)**2) / 2(std(X)**2))\n",
    "# M(X) = a = -2std(X) = 4D(X) = std(X)**2 = 16\n",
    "# M(X) = -2D(X) = 16std = 4"
   ]
  }
 ],
 "metadata": {
  "kernelspec": {
   "display_name": "Python 3 (ipykernel)",
   "language": "python",
   "name": "python3"
  },
  "language_info": {
   "codemirror_mode": {
    "name": "ipython",
    "version": 3
   },
   "file_extension": ".py",
   "mimetype": "text/x-python",
   "name": "python",
   "nbconvert_exporter": "python",
   "pygments_lexer": "ipython3",
   "version": "3.9.13"
  }
 },
 "nbformat": 4,
 "nbformat_minor": 5
}
