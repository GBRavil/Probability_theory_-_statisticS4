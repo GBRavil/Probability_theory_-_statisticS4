{
 "cells": [
  {
   "cell_type": "code",
   "execution_count": null,
   "id": "49adbbdb",
   "metadata": {},
   "outputs": [],
   "source": [
    "# 5. На сколько сигм (средних квадратичных отклонений) отклоняется рост человека,\n",
    "# равный 190 см, от\n",
    "# математического ожидания роста в популяции, в которой M(X) = 178 см и D(X) = 25 кв.см?"
   ]
  },
  {
   "cell_type": "code",
   "execution_count": 1,
   "id": "0eda7b40",
   "metadata": {},
   "outputs": [
    {
     "data": {
      "text/plain": [
       "2.4"
      ]
     },
     "execution_count": 1,
     "metadata": {},
     "output_type": "execute_result"
    }
   ],
   "source": [
    "Z=(190-178)/25**(1/2)\n",
    "Z"
   ]
  },
  {
   "cell_type": "code",
   "execution_count": 2,
   "id": "e8f2ec1c",
   "metadata": {},
   "outputs": [
    {
     "name": "stdout",
     "output_type": "stream",
     "text": [
      "Рост человека, равный 190 см, отклоняется от математического ожидания роста в популяции, \n",
      "в которой M(X) = 178 см и D(X) = 25 кв.см на Z = 2.4 сигм.\n"
     ]
    }
   ],
   "source": [
    "print(f'Рост человека, равный 190 см, отклоняется от математического ожидания роста в популяции, \\n'\n",
    "      f'в которой M(X) = 178 см и D(X) = 25 кв.см на Z = {Z} сигм.')"
   ]
  },
  {
   "cell_type": "code",
   "execution_count": null,
   "id": "538d3908",
   "metadata": {},
   "outputs": [],
   "source": []
  }
 ],
 "metadata": {
  "kernelspec": {
   "display_name": "Python 3 (ipykernel)",
   "language": "python",
   "name": "python3"
  },
  "language_info": {
   "codemirror_mode": {
    "name": "ipython",
    "version": 3
   },
   "file_extension": ".py",
   "mimetype": "text/x-python",
   "name": "python",
   "nbconvert_exporter": "python",
   "pygments_lexer": "ipython3",
   "version": "3.9.13"
  }
 },
 "nbformat": 4,
 "nbformat_minor": 5
}
